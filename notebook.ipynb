{
  "nbformat": 4,
  "nbformat_minor": 0,
  "metadata": {
    "colab": {
      "name": "notebook.ipynb",
      "version": "0.3.2",
      "views": {},
      "default_view": {},
      "provenance": [],
      "collapsed_sections": []
    },
    "kernelspec": {
      "name": "python3",
      "display_name": "Python 3"
    },
    "accelerator": "GPU"
  },
  "cells": [
    {
      "metadata": {
        "id": "bcu9CIJAQ4nQ",
        "colab_type": "code",
        "colab": {
          "autoexec": {
            "startup": false,
            "wait_interval": 0
          }
        }
      },
      "cell_type": "code",
      "source": [
        "!apt-get install -y -qq software-properties-common python-software-properties module-init-tools\n",
        "!add-apt-repository -y ppa:alessandro-strada/ppa 2>&1 > /dev/null\n",
        "!apt-get update -qq 2>&1 > /dev/null\n",
        "!apt-get -y install -qq google-drive-ocamlfuse fuse\n",
        "from google.colab import auth\n",
        "auth.authenticate_user()\n",
        "from oauth2client.client import GoogleCredentials\n",
        "creds = GoogleCredentials.get_application_default()\n",
        "import getpass\n",
        "!google-drive-ocamlfuse -headless -id={creds.client_id} -secret={creds.client_secret} < /dev/null 2>&1 | grep URL\n",
        "vcode = getpass.getpass()\n",
        "!echo {vcode} | google-drive-ocamlfuse -headless -id={creds.client_id} -secret={creds.client_secret}"
      ],
      "execution_count": 0,
      "outputs": []
    },
    {
      "metadata": {
        "id": "yHE9r3qHWKzy",
        "colab_type": "text"
      },
      "cell_type": "markdown",
      "source": [
        "# New Section"
      ]
    },
    {
      "metadata": {
        "id": "bki5CzzVSAwE",
        "colab_type": "code",
        "colab": {
          "autoexec": {
            "startup": false,
            "wait_interval": 0
          },
          "output_extras": [
            {
              "item_id": 1
            }
          ],
          "base_uri": "https://localhost:8080/",
          "height": 51
        },
        "outputId": "af8e657e-fc11-42f1-b76e-dc2578d20968",
        "executionInfo": {
          "status": "ok",
          "timestamp": 1521405592906,
          "user_tz": 240,
          "elapsed": 1418,
          "user": {
            "displayName": "Janamejaya Chowdhary",
            "photoUrl": "https://lh3.googleusercontent.com/a/default-user=s128",
            "userId": "109543167815685235104"
          }
        }
      },
      "cell_type": "code",
      "source": [
        "!mkdir -p drive\n",
        "!google-drive-ocamlfuse drive"
      ],
      "execution_count": 1,
      "outputs": [
        {
          "output_type": "stream",
          "text": [
            "fuse: mountpoint is not empty\r\n",
            "fuse: if you are sure this is safe, use the 'nonempty' mount option\r\n"
          ],
          "name": "stdout"
        }
      ]
    },
    {
      "metadata": {
        "id": "5N91HR1WSLNh",
        "colab_type": "code",
        "colab": {
          "autoexec": {
            "startup": false,
            "wait_interval": 0
          }
        }
      },
      "cell_type": "code",
      "source": [
        "!pip install -q keras"
      ],
      "execution_count": 0,
      "outputs": []
    },
    {
      "metadata": {
        "id": "hfI0or6CgUMs",
        "colab_type": "code",
        "colab": {
          "autoexec": {
            "startup": false,
            "wait_interval": 0
          },
          "output_extras": [
            {
              "item_id": 1
            },
            {
              "item_id": 2
            }
          ],
          "base_uri": "https://localhost:8080/",
          "height": 51
        },
        "outputId": "1c4e627c-905e-43fb-a26d-034ee99f8b2a",
        "executionInfo": {
          "status": "ok",
          "timestamp": 1521405596007,
          "user_tz": 240,
          "elapsed": 1066,
          "user": {
            "displayName": "Janamejaya Chowdhary",
            "photoUrl": "https://lh3.googleusercontent.com/a/default-user=s128",
            "userId": "109543167815685235104"
          }
        }
      },
      "cell_type": "code",
      "source": [
        "import time\n",
        "start_time = time.time()\n",
        "from sklearn.model_selection import train_test_split\n",
        "import sys, os, re, csv, codecs, numpy as np, pandas as pd\n",
        "np.random.seed(32)\n",
        "#os.environ[\"OMP_NUM_THREADS\"] = \"4\"\n",
        "from keras.preprocessing.text import Tokenizer\n",
        "from keras.preprocessing import text, sequence\n",
        "from keras.preprocessing.sequence import pad_sequences\n",
        "from keras.layers import Dense, Input, LSTM, Embedding, Dropout, Activation, Conv1D, CuDNNLSTM, CuDNNGRU\n",
        "from keras.layers import Bidirectional, GlobalMaxPool1D, MaxPooling1D, Add, Flatten, TimeDistributed\n",
        "from keras.layers import GlobalAveragePooling1D, GlobalMaxPooling1D, concatenate, SpatialDropout1D\n",
        "from keras.models import Model, load_model\n",
        "from keras import initializers, regularizers, constraints, optimizers, layers, callbacks\n",
        "from keras import backend as K\n",
        "from keras.engine import InputSpec, Layer\n",
        "from keras.callbacks import *\n",
        "from keras.optimizers import Adam, RMSprop\n",
        "from keras.callbacks import EarlyStopping, ModelCheckpoint, LearningRateScheduler\n",
        "from keras.layers import GRU, BatchNormalization, Conv1D, MaxPooling1D\n",
        "import pickle\n",
        "print('imports complete')"
      ],
      "execution_count": 3,
      "outputs": [
        {
          "output_type": "stream",
          "text": [
            "Using TensorFlow backend.\n"
          ],
          "name": "stderr"
        },
        {
          "output_type": "stream",
          "text": [
            "imports complete\n"
          ],
          "name": "stdout"
        }
      ]
    },
    {
      "metadata": {
        "id": "YoWKkZwhjY_W",
        "colab_type": "code",
        "colab": {
          "autoexec": {
            "startup": false,
            "wait_interval": 0
          },
          "output_extras": [
            {
              "item_id": 1
            }
          ],
          "base_uri": "https://localhost:8080/",
          "height": 34
        },
        "outputId": "a03d30d5-025d-4fda-9d0b-1eab0a624b99",
        "executionInfo": {
          "status": "ok",
          "timestamp": 1521405596864,
          "user_tz": 240,
          "elapsed": 850,
          "user": {
            "displayName": "Janamejaya Chowdhary",
            "photoUrl": "https://lh3.googleusercontent.com/a/default-user=s128",
            "userId": "109543167815685235104"
          }
        }
      },
      "cell_type": "code",
      "source": [
        "import tensorflow as tf\n",
        "device_name = tf.test.gpu_device_name()\n",
        "if device_name != '/device:GPU:0':\n",
        "  raise SystemError('GPU device not found')\n",
        "print('Found GPU at: {}'.format(device_name))"
      ],
      "execution_count": 4,
      "outputs": [
        {
          "output_type": "stream",
          "text": [
            "Found GPU at: /device:GPU:0\n"
          ],
          "name": "stdout"
        }
      ]
    },
    {
      "metadata": {
        "id": "76RyYE0HgUM0",
        "colab_type": "code",
        "colab": {
          "autoexec": {
            "startup": false,
            "wait_interval": 0
          }
        }
      },
      "cell_type": "code",
      "source": [
        "import logging\n",
        "from sklearn.metrics import roc_auc_score\n",
        "from keras.callbacks import Callback\n",
        "\n",
        "class RocAucEvaluation(Callback):\n",
        "    def __init__(self, validation_data=(), interval=1):\n",
        "        super(Callback, self).__init__()\n",
        "\n",
        "        self.interval = interval\n",
        "        self.X_val, self.y_val = validation_data\n",
        "\n",
        "    def on_epoch_end(self, epoch, logs={}):\n",
        "        if epoch % self.interval == 0:\n",
        "            y_pred = self.model.predict(self.X_val, verbose=0)\n",
        "            score = roc_auc_score(self.y_val, y_pred)\n",
        "            print(\"\\n ROC-AUC - epoch: {:d} - score: {:.6f}\".format(epoch+1, score))"
      ],
      "execution_count": 0,
      "outputs": []
    },
    {
      "metadata": {
        "id": "GtrtLnq2gUM3",
        "colab_type": "code",
        "colab": {
          "autoexec": {
            "startup": false,
            "wait_interval": 0
          },
          "output_extras": [
            {
              "item_id": 1
            }
          ],
          "base_uri": "https://localhost:8080/",
          "height": 34
        },
        "outputId": "56d04cf0-28f8-49fa-e31a-8c9c5ab1b237",
        "executionInfo": {
          "status": "ok",
          "timestamp": 1521405599830,
          "user_tz": 240,
          "elapsed": 2643,
          "user": {
            "displayName": "Janamejaya Chowdhary",
            "photoUrl": "https://lh3.googleusercontent.com/a/default-user=s128",
            "userId": "109543167815685235104"
          }
        }
      },
      "cell_type": "code",
      "source": [
        "train = pd.read_csv(\"drive/jigsaw/train.csv\")\n",
        "test = pd.read_csv(\"drive/jigsaw/test.csv\")\n",
        "embedding_path = \"drive/jigsaw/crawl-300d-2M.vec\"\n",
        "#embedding_path = \"../embeddings/glove.840B.300d.txt\"\n",
        "embed_size = 300\n",
        "max_features = 150000\n",
        "max_len = 200\n",
        "maxlen = 200\n",
        "print('data read in')"
      ],
      "execution_count": 6,
      "outputs": [
        {
          "output_type": "stream",
          "text": [
            "data read in\n"
          ],
          "name": "stdout"
        }
      ]
    },
    {
      "metadata": {
        "id": "lm3Ie-kIgUM7",
        "colab_type": "code",
        "colab": {
          "autoexec": {
            "startup": false,
            "wait_interval": 0
          },
          "output_extras": [
            {
              "item_id": 1
            }
          ],
          "base_uri": "https://localhost:8080/",
          "height": 34
        },
        "outputId": "bd87d4ad-b8e9-4499-bbd1-f14a74415f0e",
        "executionInfo": {
          "status": "ok",
          "timestamp": 1521405603655,
          "user_tz": 240,
          "elapsed": 3819,
          "user": {
            "displayName": "Janamejaya Chowdhary",
            "photoUrl": "https://lh3.googleusercontent.com/a/default-user=s128",
            "userId": "109543167815685235104"
          }
        }
      },
      "cell_type": "code",
      "source": [
        "# Construct tuples out of non-toxic column values\n",
        "label_cols = ['toxic', 'severe_toxic', 'obscene', 'threat', 'insult', 'identity_hate']\n",
        "train['mytuples'] = train[label_cols].apply(tuple, axis=1)\n",
        "print('mytuples generated')"
      ],
      "execution_count": 7,
      "outputs": [
        {
          "output_type": "stream",
          "text": [
            "mytuples generated\n"
          ],
          "name": "stdout"
        }
      ]
    },
    {
      "metadata": {
        "id": "aYMGembagUM9",
        "colab_type": "code",
        "colab": {
          "autoexec": {
            "startup": false,
            "wait_interval": 0
          },
          "output_extras": [
            {
              "item_id": 1
            }
          ],
          "base_uri": "https://localhost:8080/",
          "height": 357
        },
        "outputId": "6b1ecb2c-92dd-47b2-8ed4-4aef39e7094b",
        "executionInfo": {
          "status": "ok",
          "timestamp": 1521405604049,
          "user_tz": 240,
          "elapsed": 378,
          "user": {
            "displayName": "Janamejaya Chowdhary",
            "photoUrl": "https://lh3.googleusercontent.com/a/default-user=s128",
            "userId": "109543167815685235104"
          }
        }
      },
      "cell_type": "code",
      "source": [
        "# Construct a column for no toxic label\n",
        "#train['none'] = 1-train[label_cols].max(axis=1)\n",
        "train.describe()\n",
        "\n",
        "X_train = train[\"comment_text\"].fillna(\"fillna\").values\n",
        "y_train = train[label_cols].values\n",
        "X_test = test[\"comment_text\"].fillna(\"fillna\").values\n",
        "nlabels = y_train.shape[1]\n",
        "print(train.describe())\n",
        "\n",
        "print('test train ready after processing missing values')"
      ],
      "execution_count": 8,
      "outputs": [
        {
          "output_type": "stream",
          "text": [
            "               toxic   severe_toxic        obscene         threat  \\\n",
            "count  159571.000000  159571.000000  159571.000000  159571.000000   \n",
            "mean        0.095844       0.009996       0.052948       0.002996   \n",
            "std         0.294379       0.099477       0.223931       0.054650   \n",
            "min         0.000000       0.000000       0.000000       0.000000   \n",
            "25%         0.000000       0.000000       0.000000       0.000000   \n",
            "50%         0.000000       0.000000       0.000000       0.000000   \n",
            "75%         0.000000       0.000000       0.000000       0.000000   \n",
            "max         1.000000       1.000000       1.000000       1.000000   \n",
            "\n",
            "              insult  identity_hate  \n",
            "count  159571.000000  159571.000000  \n",
            "mean        0.049364       0.008805  \n",
            "std         0.216627       0.093420  \n",
            "min         0.000000       0.000000  \n",
            "25%         0.000000       0.000000  \n",
            "50%         0.000000       0.000000  \n",
            "75%         0.000000       0.000000  \n",
            "max         1.000000       1.000000  \n",
            "test train ready after processing missing values\n"
          ],
          "name": "stdout"
        }
      ]
    },
    {
      "metadata": {
        "id": "DHIY-JUDgUNQ",
        "colab_type": "code",
        "colab": {
          "autoexec": {
            "startup": false,
            "wait_interval": 0
          },
          "output_extras": [
            {
              "item_id": 2
            }
          ],
          "base_uri": "https://localhost:8080/",
          "height": 51
        },
        "outputId": "1595bd20-1d87-49a7-8968-eedd4f02d3bb",
        "executionInfo": {
          "status": "ok",
          "timestamp": 1521405644250,
          "user_tz": 240,
          "elapsed": 40150,
          "user": {
            "displayName": "Janamejaya Chowdhary",
            "photoUrl": "https://lh3.googleusercontent.com/a/default-user=s128",
            "userId": "109543167815685235104"
          }
        }
      },
      "cell_type": "code",
      "source": [
        "print(' Cleaning ...')\n",
        "# PREPROCESSING PART\n",
        "repl = {\n",
        "    \"yay!\": \" good \",\n",
        "    \"yay\": \" good \",\n",
        "    \"yaay\": \" good \",\n",
        "    \"yaaay\": \" good \",\n",
        "    \"yaaaay\": \" good \",\n",
        "    \"yaaaaay\": \" good \",\n",
        "    \":/\": \" bad \",\n",
        "    \":&gt;\": \" sad \",\n",
        "    \":')\": \" sad \",\n",
        "    \":-(\": \" frown \",\n",
        "    \":(\": \" frown \",\n",
        "    \":s\": \" frown \",\n",
        "    \":-s\": \" frown \",\n",
        "    \"&lt;3\": \" heart \",\n",
        "    \":d\": \" smile \",\n",
        "    \":p\": \" smile \",\n",
        "    \":dd\": \" smile \",\n",
        "    \"8)\": \" smile \",\n",
        "    \":-)\": \" smile \",\n",
        "    \":)\": \" smile \",\n",
        "    \";)\": \" smile \",\n",
        "    \"(-:\": \" smile \",\n",
        "    \"(:\": \" smile \",\n",
        "    \":/\": \" worry \",\n",
        "    \":&gt;\": \" angry \",\n",
        "    \":')\": \" sad \",\n",
        "    \":-(\": \" sad \",\n",
        "    \":(\": \" sad \",\n",
        "    \":s\": \" sad \",\n",
        "    \":-s\": \" sad \",\n",
        "    r\"\\br\\b\": \"are\",\n",
        "    r\"\\bu\\b\": \"you\",\n",
        "    r\"\\bhaha\\b\": \"ha\",\n",
        "    r\"\\bhahaha\\b\": \"ha\",\n",
        "    r\"\\bdon't\\b\": \"do not\",\n",
        "    r\"\\bdoesn't\\b\": \"does not\",\n",
        "    r\"\\bdidn't\\b\": \"did not\",\n",
        "    r\"\\bhasn't\\b\": \"has not\",\n",
        "    r\"\\bhaven't\\b\": \"have not\",\n",
        "    r\"\\bhadn't\\b\": \"had not\",\n",
        "    r\"\\bwon't\\b\": \"will not\",\n",
        "    r\"\\bwouldn't\\b\": \"would not\",\n",
        "    r\"\\bcan't\\b\": \"can not\",\n",
        "    r\"\\bcannot\\b\": \"can not\",\n",
        "    r\"\\bi'm\\b\": \"i am\",\n",
        "    \"m\": \"am\",\n",
        "    \"r\": \"are\",\n",
        "    \"u\": \"you\",\n",
        "    \"haha\": \"ha\",\n",
        "    \"hahaha\": \"ha\",\n",
        "    \"don't\": \"do not\",\n",
        "    \"doesn't\": \"does not\",\n",
        "    \"didn't\": \"did not\",\n",
        "    \"hasn't\": \"has not\",\n",
        "    \"haven't\": \"have not\",\n",
        "    \"hadn't\": \"had not\",\n",
        "    \"won't\": \"will not\",\n",
        "    \"wouldn't\": \"would not\",\n",
        "    \"can't\": \"can not\",\n",
        "    \"cannot\": \"can not\",\n",
        "    \"i'm\": \"i am\",\n",
        "    \"m\": \"am\",\n",
        "    \"i'll\" : \"i will\",\n",
        "    \"its\" : \"it is\",\n",
        "    \"it's\" : \"it is\",\n",
        "    \"'s\" : \" is\",\n",
        "    \"that's\" : \"that is\",\n",
        "    \"weren't\" : \"were not\",\n",
        "}\n",
        "\n",
        "keys = [i for i in repl.keys()]\n",
        "\n",
        "new_train_data = []\n",
        "new_test_data = []\n",
        "ltr = train[\"comment_text\"].tolist()\n",
        "lte = test[\"comment_text\"].tolist()\n",
        "for i in ltr:\n",
        "    arr = str(i).split()\n",
        "    xx = \"\"\n",
        "    for j in arr:\n",
        "        j = str(j).lower()\n",
        "        if j[:4] == 'http' or j[:3] == 'www':\n",
        "            continue\n",
        "        if j in keys:\n",
        "            # print(\"inn\")\n",
        "            j = repl[j]\n",
        "        xx += j + \" \"\n",
        "    new_train_data.append(xx)\n",
        "for i in lte:\n",
        "    arr = str(i).split()\n",
        "    xx = \"\"\n",
        "    for j in arr:\n",
        "        j = str(j).lower()\n",
        "        if j[:4] == 'http' or j[:3] == 'www':\n",
        "            continue\n",
        "        if j in keys:\n",
        "            # print(\"inn\")\n",
        "            j = repl[j]\n",
        "        xx += j + \" \"\n",
        "    new_test_data.append(xx)\n",
        "train[\"new_comment_text\"] = new_train_data\n",
        "test[\"new_comment_text\"] = new_test_data\n",
        "\n",
        "trate = train[\"new_comment_text\"].tolist()\n",
        "tete = test[\"new_comment_text\"].tolist()\n",
        "for i, c in enumerate(trate):\n",
        "    trate[i] = re.sub('[^a-zA-Z ?!]+', '', str(trate[i]).lower())\n",
        "for i, c in enumerate(tete):\n",
        "    tete[i] = re.sub('[^a-zA-Z ?!]+', '', tete[i])\n",
        "train[\"comment_text\"] = trate\n",
        "test[\"comment_text\"] = tete\n",
        "del trate, tete\n",
        "train.drop([\"new_comment_text\"], axis=1, inplace=True)\n",
        "test.drop([\"new_comment_text\"], axis=1, inplace=True)\n",
        "print('cleaning complete')"
      ],
      "execution_count": 9,
      "outputs": [
        {
          "output_type": "stream",
          "text": [
            " Cleaning ...\n",
            "cleaning complete\n"
          ],
          "name": "stdout"
        }
      ]
    },
    {
      "metadata": {
        "id": "xo3mPN6N_vp3",
        "colab_type": "code",
        "colab": {
          "autoexec": {
            "startup": false,
            "wait_interval": 0
          }
        }
      },
      "cell_type": "code",
      "source": [
        "# Lowercase all comments\n",
        "train[\"lcase_comment_text\"] = train[\"comment_text\"].astype(str).str.lower()\n",
        "test[\"lcase_comment_text\"] = test[\"comment_text\"].astype(str).str.lower()\n",
        "train.drop('comment_text', axis=1, inplace=True)\n",
        "test.drop('comment_text', axis=1, inplace=True)"
      ],
      "execution_count": 0,
      "outputs": []
    },
    {
      "metadata": {
        "id": "xJQLDyTv_2kB",
        "colab_type": "code",
        "colab": {
          "autoexec": {
            "startup": false,
            "wait_interval": 0
          }
        }
      },
      "cell_type": "code",
      "source": [
        "# Construct a dataframe that reverses the comment_text\n",
        "def reverse_string(row):\n",
        "    return \" \".join(row.split(\" \")[::-1])\n",
        "\n",
        "train['rcomment_text'] = train['lcase_comment_text'].apply(lambda x: reverse_string(x))\n",
        "test['rcomment_text'] = test['lcase_comment_text'].apply(lambda x: reverse_string(x))"
      ],
      "execution_count": 0,
      "outputs": []
    },
    {
      "metadata": {
        "id": "O7uTur1K_9dB",
        "colab_type": "code",
        "colab": {
          "autoexec": {
            "startup": false,
            "wait_interval": 0
          },
          "output_extras": [
            {
              "item_id": 1
            }
          ],
          "base_uri": "https://localhost:8080/",
          "height": 119
        },
        "outputId": "686f90d3-7594-45cf-e80f-72fbd93e997b",
        "executionInfo": {
          "status": "ok",
          "timestamp": 1521405647778,
          "user_tz": 240,
          "elapsed": 621,
          "user": {
            "displayName": "Janamejaya Chowdhary",
            "photoUrl": "https://lh3.googleusercontent.com/a/default-user=s128",
            "userId": "109543167815685235104"
          }
        }
      },
      "cell_type": "code",
      "source": [
        "# Prepare numpy array to manage data\n",
        "X_train = train[\"lcase_comment_text\"].str.lower().values\n",
        "rX_train = train[\"rcomment_text\"].str.lower().values\n",
        "y_train = train[[\"toxic\", \"severe_toxic\", \"obscene\", \"threat\", \"insult\", \"identity_hate\"]].values\n",
        "X_test = test[\"lcase_comment_text\"].values\n",
        "rX_test = test[\"rcomment_text\"].values\n",
        "\n",
        "# Each row of X_train is one string, so the dimension of X_train is number of rows\n",
        "print('shape of X_train = ',X_train.shape)\n",
        "print('shape of rX_train = ',rX_train.shape)\n",
        "print('shape of X_test = ',X_test.shape)\n",
        "print('shape of rX_test = ',rX_test.shape)\n",
        "print('shape of y_train = ',y_train.shape)\n",
        "\n",
        "print('data transferred to numpy format')"
      ],
      "execution_count": 12,
      "outputs": [
        {
          "output_type": "stream",
          "text": [
            "shape of X_train =  (159571,)\n",
            "shape of rX_train =  (159571,)\n",
            "shape of X_test =  (153164,)\n",
            "shape of rX_test =  (153164,)\n",
            "shape of y_train =  (159571, 6)\n",
            "data transferred to numpy format\n"
          ],
          "name": "stdout"
        }
      ]
    },
    {
      "metadata": {
        "id": "WkxxLlvAAHuW",
        "colab_type": "code",
        "colab": {
          "autoexec": {
            "startup": false,
            "wait_interval": 0
          },
          "output_extras": [
            {
              "item_id": 1
            }
          ],
          "base_uri": "https://localhost:8080/",
          "height": 51
        },
        "outputId": "7370aca3-b946-476a-e760-a3ec3633ffaf",
        "executionInfo": {
          "status": "ok",
          "timestamp": 1521405647950,
          "user_tz": 240,
          "elapsed": 167,
          "user": {
            "displayName": "Janamejaya Chowdhary",
            "photoUrl": "https://lh3.googleusercontent.com/a/default-user=s128",
            "userId": "109543167815685235104"
          }
        }
      },
      "cell_type": "code",
      "source": [
        "new_X_train = np.concatenate((X_train, rX_train),axis=0)\n",
        "new_y_train = np.vstack((y_train,y_train))\n",
        "print('shape of new_X_train = ', new_X_train.shape)\n",
        "print('shape of new_y_train = ',new_y_train.shape)"
      ],
      "execution_count": 13,
      "outputs": [
        {
          "output_type": "stream",
          "text": [
            "shape of new_X_train =  (319142,)\n",
            "shape of new_y_train =  (319142, 6)\n"
          ],
          "name": "stdout"
        }
      ]
    },
    {
      "metadata": {
        "id": "vfGAwm6RgUN3",
        "colab_type": "code",
        "colab": {
          "autoexec": {
            "startup": false,
            "wait_interval": 0
          },
          "output_extras": [
            {
              "item_id": 2
            }
          ],
          "base_uri": "https://localhost:8080/",
          "height": 136
        },
        "outputId": "e242021c-3b2b-4641-e71f-d45324593d49",
        "executionInfo": {
          "status": "ok",
          "timestamp": 1521405714743,
          "user_tz": 240,
          "elapsed": 66754,
          "user": {
            "displayName": "Janamejaya Chowdhary",
            "photoUrl": "https://lh3.googleusercontent.com/a/default-user=s128",
            "userId": "109543167815685235104"
          }
        }
      },
      "cell_type": "code",
      "source": [
        "tok=text.Tokenizer(num_words=max_features,lower=True)\n",
        "tok.fit_on_texts(list(new_X_train)+list(X_test)+list(rX_test))\n",
        "X_train=tok.texts_to_sequences(new_X_train)\n",
        "X_test=tok.texts_to_sequences(X_test)\n",
        "rX_test=tok.texts_to_sequences(rX_test)\n",
        "print('len of X_train = ',len(X_train))\n",
        "print('len of X_test = ',len(X_test))\n",
        "print('len of rX_test = ',len(rX_test))\n",
        "\n",
        "x_train=sequence.pad_sequences(X_train,maxlen=maxlen)\n",
        "x_test=sequence.pad_sequences(X_test,maxlen=maxlen)\n",
        "rx_test=sequence.pad_sequences(rX_test,maxlen=maxlen)\n",
        "print('len of x_train = ',len(x_train))\n",
        "print('len of x_test = ',len(x_test))\n",
        "print('len of rx_test = ',len(rx_test))\n",
        "print('text tokenization and sequence padding complete')"
      ],
      "execution_count": 14,
      "outputs": [
        {
          "output_type": "stream",
          "text": [
            "len of X_train =  319142\n",
            "len of X_test =  153164\n",
            "len of rX_test =  153164\n",
            "len of x_train =  319142\n",
            "len of x_test =  153164\n",
            "len of rx_test =  153164\n",
            "text tokenization and sequence padding complete\n"
          ],
          "name": "stdout"
        }
      ]
    },
    {
      "metadata": {
        "id": "qqNjb0oVAjn4",
        "colab_type": "code",
        "colab": {
          "autoexec": {
            "startup": false,
            "wait_interval": 0
          }
        }
      },
      "cell_type": "code",
      "source": [
        "# Split X_train, y_train into train and validation subsets\n",
        "def split_train_data1(X_train, y_train, split_val_frac, seed_val=233):\n",
        "    # Now construct an array of indices and shuffle them\n",
        "    shuffled_idx = np.random.RandomState(seed=seed_val).permutation(len(y_train))\n",
        "    valid_size = int(np.round(len(y_train)*split_val_frac))\n",
        "    valid_indices = shuffled_idx[:valid_size]\n",
        "    train_indices = shuffled_idx[valid_size:]\n",
        "    \n",
        "    # Save the train and valid indices\n",
        "    pickle.dump( train_indices, open(\"drive/jigsaw/train_indices.p\",\"wb\"))\n",
        "    pickle.dump( valid_indices, open(\"drive/jigsaw/valid_indices.p\",\"wb\"))\n",
        "    \n",
        "    # Return split dataset\n",
        "    return X_train[train_indices], X_train[valid_indices,], y_train[train_indices], y_train[valid_indices,]"
      ],
      "execution_count": 0,
      "outputs": []
    },
    {
      "metadata": {
        "id": "7rSKg3N4BgOv",
        "colab_type": "code",
        "colab": {
          "autoexec": {
            "startup": false,
            "wait_interval": 0
          }
        }
      },
      "cell_type": "code",
      "source": [
        "# Split X_train, y_train into train and validation subsets using preset\n",
        "# selection of train and validation indices\n",
        "def split_train_data2(X_train, y_train, split_val_frac, seed_val=233):    \n",
        "    # Read train and validation indices\n",
        "    train_indices = pickle.load( open(\"drive/jigsaw/train_indices.p\",\"rb\"))\n",
        "    valid_indices = pickle.load( open(\"drive/jigsaw/valid_indices.p\",\"rb\"))\n",
        "    \n",
        "    # Return split dataset\n",
        "    return X_train[train_indices], X_train[valid_indices,], y_train[train_indices], y_train[valid_indices,]"
      ],
      "execution_count": 0,
      "outputs": []
    },
    {
      "metadata": {
        "id": "NviI7CbngUVY",
        "colab_type": "code",
        "colab": {
          "autoexec": {
            "startup": false,
            "wait_interval": 0
          }
        }
      },
      "cell_type": "code",
      "source": [
        "# Perform train-validation split\n",
        "#X_tra, X_val, y_tra, y_val, weights_tra, weights_val = train_test_split(x_train, y_train, weight_array, test_size=0.10, random_state=233)\n",
        "#print('train-validation split complete')"
      ],
      "execution_count": 0,
      "outputs": []
    },
    {
      "metadata": {
        "id": "qRAfJLHCAoUJ",
        "colab_type": "code",
        "colab": {
          "autoexec": {
            "startup": false,
            "wait_interval": 0
          },
          "output_extras": [
            {
              "item_id": 1
            }
          ],
          "base_uri": "https://localhost:8080/",
          "height": 34
        },
        "outputId": "74070999-8e0d-4518-d5dc-40f217e32c95",
        "executionInfo": {
          "status": "ok",
          "timestamp": 1521405717681,
          "user_tz": 240,
          "elapsed": 1800,
          "user": {
            "displayName": "Janamejaya Chowdhary",
            "photoUrl": "https://lh3.googleusercontent.com/a/default-user=s128",
            "userId": "109543167815685235104"
          }
        }
      },
      "cell_type": "code",
      "source": [
        "# Perform train-validation split\n",
        "rndm_state=233\n",
        "split_val_frac=0.1\n",
        "X_tra, X_val, y_tra, y_val = split_train_data2(x_train, new_y_train, split_val_frac, rndm_state)\n",
        "print('train-validation split complete')"
      ],
      "execution_count": 18,
      "outputs": [
        {
          "output_type": "stream",
          "text": [
            "train-validation split complete\n"
          ],
          "name": "stdout"
        }
      ]
    },
    {
      "metadata": {
        "id": "8X09LzsxDwrp",
        "colab_type": "code",
        "colab": {
          "autoexec": {
            "startup": false,
            "wait_interval": 0
          },
          "output_extras": [
            {
              "item_id": 1
            }
          ],
          "base_uri": "https://localhost:8080/",
          "height": 85
        },
        "outputId": "92093d93-db2e-47fd-f094-354f0969afa9",
        "executionInfo": {
          "status": "ok",
          "timestamp": 1521405717954,
          "user_tz": 240,
          "elapsed": 267,
          "user": {
            "displayName": "Janamejaya Chowdhary",
            "photoUrl": "https://lh3.googleusercontent.com/a/default-user=s128",
            "userId": "109543167815685235104"
          }
        }
      },
      "cell_type": "code",
      "source": [
        "# Print out the shape of all arrays with split data\n",
        "print('shape of X_tra = ',X_tra.shape)\n",
        "print('shape of X_val = ',X_val.shape)\n",
        "print('y_tra.shape = ',y_tra.shape)\n",
        "print('y_val.shape = ',y_val.shape)"
      ],
      "execution_count": 19,
      "outputs": [
        {
          "output_type": "stream",
          "text": [
            "shape of X_tra =  (287228, 200)\n",
            "shape of X_val =  (31914, 200)\n",
            "y_tra.shape =  (287228, 6)\n",
            "y_val.shape =  (31914, 6)\n"
          ],
          "name": "stdout"
        }
      ]
    },
    {
      "metadata": {
        "id": "tiwpxSaHgUYR",
        "colab_type": "code",
        "colab": {
          "autoexec": {
            "startup": false,
            "wait_interval": 0
          },
          "output_extras": [
            {
              "item_id": 1
            }
          ],
          "base_uri": "https://localhost:8080/",
          "height": 34
        },
        "outputId": "d4b80a44-19b1-47b8-de2d-867fff33fdd4",
        "executionInfo": {
          "status": "ok",
          "timestamp": 1521405932772,
          "user_tz": 240,
          "elapsed": 214788,
          "user": {
            "displayName": "Janamejaya Chowdhary",
            "photoUrl": "https://lh3.googleusercontent.com/a/default-user=s128",
            "userId": "109543167815685235104"
          }
        }
      },
      "cell_type": "code",
      "source": [
        "# Read in the embedding\n",
        "def get_coefs(word,*arr): return word, np.asarray(arr, dtype='float32')\n",
        "embedding_index = dict(get_coefs(*o.strip().split(\" \")) for o in open(embedding_path, encoding=\"utf8\"))\n",
        "print('embedding stage1: read from file')"
      ],
      "execution_count": 20,
      "outputs": [
        {
          "output_type": "stream",
          "text": [
            "embedding stage1: read from file\n"
          ],
          "name": "stdout"
        }
      ]
    },
    {
      "metadata": {
        "id": "c2k3Jy2tgUYt",
        "colab_type": "code",
        "colab": {
          "autoexec": {
            "startup": false,
            "wait_interval": 0
          },
          "output_extras": [
            {
              "item_id": 1
            }
          ],
          "base_uri": "https://localhost:8080/",
          "height": 34
        },
        "outputId": "ea5b5f9b-a358-4df3-8b05-05f2d4cfa186",
        "executionInfo": {
          "status": "ok",
          "timestamp": 1521405933715,
          "user_tz": 240,
          "elapsed": 936,
          "user": {
            "displayName": "Janamejaya Chowdhary",
            "photoUrl": "https://lh3.googleusercontent.com/a/default-user=s128",
            "userId": "109543167815685235104"
          }
        }
      },
      "cell_type": "code",
      "source": [
        "# Assign embedding to words\n",
        "word_index = tok.word_index\n",
        "nb_words = min(max_features, len(word_index))\n",
        "embedding_matrix = np.zeros((nb_words, embed_size))\n",
        "for word, i in word_index.items():\n",
        "    if i >= max_features: continue\n",
        "    embedding_vector = embedding_index.get(word)\n",
        "    if embedding_vector is not None: embedding_matrix[i] = embedding_vector\n",
        "print('embedding stage2: embedding_vector constructed')"
      ],
      "execution_count": 21,
      "outputs": [
        {
          "output_type": "stream",
          "text": [
            "embedding stage2: embedding_vector constructed\n"
          ],
          "name": "stdout"
        }
      ]
    },
    {
      "metadata": {
        "id": "6n-llgS-gUaz",
        "colab_type": "code",
        "colab": {
          "autoexec": {
            "startup": false,
            "wait_interval": 0
          }
        }
      },
      "cell_type": "code",
      "source": [
        "class CyclicLR(Callback):\n",
        "    \"\"\"This callback implements a cyclical learning rate policy (CLR).\n",
        "    The method cycles the learning rate between two boundaries with\n",
        "    some constant frequency, as detailed in this paper (https://arxiv.org/abs/1506.01186).\n",
        "    The amplitude of the cycle can be scaled on a per-iteration or \n",
        "    per-cycle basis.\n",
        "    This class has three built-in policies, as put forth in the paper.\n",
        "    \"triangular\":\n",
        "        A basic triangular cycle w/ no amplitude scaling.\n",
        "    \"triangular2\":\n",
        "        A basic triangular cycle that scales initial amplitude by half each cycle.\n",
        "    \"exp_range\":\n",
        "        A cycle that scales initial amplitude by gamma**(cycle iterations) at each \n",
        "        cycle iteration.\n",
        "    For more detail, please see paper.\n",
        "    \n",
        "    # Example\n",
        "        ```python\n",
        "            clr = CyclicLR(base_lr=0.001, max_lr=0.006,\n",
        "                                step_size=2000., mode='triangular')\n",
        "            model.fit(X_train, Y_train, callbacks=[clr])\n",
        "        ```\n",
        "    \n",
        "    Class also supports custom scaling functions:\n",
        "        ```python\n",
        "            clr_fn = lambda x: 0.5*(1+np.sin(x*np.pi/2.))\n",
        "            clr = CyclicLR(base_lr=0.001, max_lr=0.006,\n",
        "                                step_size=2000., scale_fn=clr_fn,\n",
        "                                scale_mode='cycle')\n",
        "            model.fit(X_train, Y_train, callbacks=[clr])\n",
        "        ```    \n",
        "    # Arguments\n",
        "        base_lr: initial learning rate which is the\n",
        "            lower boundary in the cycle.\n",
        "        max_lr: upper boundary in the cycle. Functionally,\n",
        "            it defines the cycle amplitude (max_lr - base_lr).\n",
        "            The lr at any cycle is the sum of base_lr\n",
        "            and some scaling of the amplitude; therefore \n",
        "            max_lr may not actually be reached depending on\n",
        "            scaling function.\n",
        "        step_size: number of training iterations per\n",
        "            half cycle. Authors suggest setting step_size\n",
        "            2-8 x training iterations in epoch.\n",
        "        mode: one of {triangular, triangular2, exp_range}.\n",
        "            Default 'triangular'.\n",
        "            Values correspond to policies detailed above.\n",
        "            If scale_fn is not None, this argument is ignored.\n",
        "        gamma: constant in 'exp_range' scaling function:\n",
        "            gamma**(cycle iterations)\n",
        "        scale_fn: Custom scaling policy defined by a single\n",
        "            argument lambda function, where \n",
        "            0 <= scale_fn(x) <= 1 for all x >= 0.\n",
        "            mode paramater is ignored \n",
        "        scale_mode: {'cycle', 'iterations'}.\n",
        "            Defines whether scale_fn is evaluated on \n",
        "            cycle number or cycle iterations (training\n",
        "            iterations since start of cycle). Default is 'cycle'.\n",
        "    \"\"\"\n",
        "\n",
        "    def __init__(self, base_lr=0.001, max_lr=0.006, step_size=2000., mode='triangular',\n",
        "                 gamma=1., scale_fn=None, scale_mode='cycle'):\n",
        "        super(CyclicLR, self).__init__()\n",
        "\n",
        "        self.base_lr = base_lr\n",
        "        self.max_lr = max_lr\n",
        "        self.step_size = step_size\n",
        "        self.mode = mode\n",
        "        self.gamma = gamma\n",
        "        if scale_fn == None:\n",
        "            if self.mode == 'triangular':\n",
        "                self.scale_fn = lambda x: 1.\n",
        "                self.scale_mode = 'cycle'\n",
        "            elif self.mode == 'triangular2':\n",
        "                self.scale_fn = lambda x: 1/(2.**(x-1))\n",
        "                self.scale_mode = 'cycle'\n",
        "            elif self.mode == 'exp_range':\n",
        "                self.scale_fn = lambda x: gamma**(x)\n",
        "                self.scale_mode = 'iterations'\n",
        "        else:\n",
        "            self.scale_fn = scale_fn\n",
        "            self.scale_mode = scale_mode\n",
        "        self.clr_iterations = 0.\n",
        "        self.trn_iterations = 0.\n",
        "        self.history = {}\n",
        "\n",
        "        self._reset()\n",
        "\n",
        "    def _reset(self, new_base_lr=None, new_max_lr=None,\n",
        "               new_step_size=None):\n",
        "        \"\"\"Resets cycle iterations.\n",
        "        Optional boundary/step size adjustment.\n",
        "        \"\"\"\n",
        "        if new_base_lr != None:\n",
        "            self.base_lr = new_base_lr\n",
        "        if new_max_lr != None:\n",
        "            self.max_lr = new_max_lr\n",
        "        if new_step_size != None:\n",
        "            self.step_size = new_step_size\n",
        "        self.clr_iterations = 0.\n",
        "        \n",
        "    def clr(self):\n",
        "        cycle = np.floor(1+self.clr_iterations/(2*self.step_size))\n",
        "        x = np.abs(self.clr_iterations/self.step_size - 2*cycle + 1)\n",
        "        if self.scale_mode == 'cycle':\n",
        "            return self.base_lr + (self.max_lr-self.base_lr)*np.maximum(0, (1-x))*self.scale_fn(cycle)\n",
        "        else:\n",
        "            return self.base_lr + (self.max_lr-self.base_lr)*np.maximum(0, (1-x))*self.scale_fn(self.clr_iterations)\n",
        "        \n",
        "    def on_train_begin(self, logs={}):\n",
        "        logs = logs or {}\n",
        "\n",
        "        if self.clr_iterations == 0:\n",
        "            K.set_value(self.model.optimizer.lr, self.base_lr)\n",
        "        else:\n",
        "            K.set_value(self.model.optimizer.lr, self.clr())        \n",
        "            \n",
        "    def on_batch_end(self, epoch, logs=None):\n",
        "        \n",
        "        logs = logs or {}\n",
        "        self.trn_iterations += 1\n",
        "        self.clr_iterations += 1\n",
        "        K.set_value(self.model.optimizer.lr, self.clr())\n",
        "\n",
        "        self.history.setdefault('lr', []).append(K.get_value(self.model.optimizer.lr))\n",
        "        self.history.setdefault('iterations', []).append(self.trn_iterations)\n",
        "\n",
        "        for k, v in logs.items():\n",
        "            self.history.setdefault(k, []).append(v)\n",
        "            "
      ],
      "execution_count": 0,
      "outputs": []
    },
    {
      "metadata": {
        "id": "8jUrGNPjgUdV",
        "colab_type": "code",
        "colab": {
          "autoexec": {
            "startup": false,
            "wait_interval": 0
          },
          "output_extras": [
            {
              "item_id": 2
            }
          ],
          "base_uri": "https://localhost:8080/",
          "height": 700
        },
        "outputId": "e300de7b-b963-46c4-9e15-fb363db615f3",
        "executionInfo": {
          "status": "ok",
          "timestamp": 1521405937667,
          "user_tz": 240,
          "elapsed": 3600,
          "user": {
            "displayName": "Janamejaya Chowdhary",
            "photoUrl": "https://lh3.googleusercontent.com/a/default-user=s128",
            "userId": "109543167815685235104"
          }
        }
      },
      "cell_type": "code",
      "source": [
        "nlabs = 6\n",
        "def get_model():\n",
        "    inp = Input(shape=(maxlen, ))\n",
        "    x = Embedding(max_features, embed_size, weights=[embedding_matrix], trainable=False)(inp)\n",
        "    x = SpatialDropout1D(0.4)(x)\n",
        "    \n",
        "    # Path 1\n",
        "    x1 = Bidirectional(CuDNNLSTM(64, return_sequences=True))(x)\n",
        "    x1 = Conv1D(filters=64, kernel_size=3, padding='valid', activation='relu')(x1)\n",
        "    \n",
        "    # Path 2\n",
        "    x2 = Bidirectional(CuDNNLSTM(128, return_sequences=True))(x)\n",
        "    x2 = Conv1D(filters=128, kernel_size=2, padding='valid', activation='relu')(x2)\n",
        "    \n",
        "    avg_pool1 = GlobalAveragePooling1D()(x1)\n",
        "    avg_pool2 = GlobalAveragePooling1D()(x2)\n",
        "    \n",
        "    max_pool1 = GlobalMaxPooling1D()(x1)\n",
        "    max_pool2 = GlobalMaxPooling1D()(x2)\n",
        "    \n",
        "    conc = concatenate([avg_pool1, avg_pool2, max_pool1, max_pool2])\n",
        "    \n",
        "    #x = Bidirectional(GRU(80, dropout=0.3, recurrent_dropout=0.3, return_sequences=True))(x)\n",
        "    #x = BatchNormalization()(x)\n",
        "    #avg_pool = GlobalAveragePooling1D()(x)\n",
        "    #max_pool = GlobalMaxPooling1D()(x)\n",
        "    #conc = concatenate([avg_pool, max_pool])\n",
        "    # Map each word to one of 2*2*2*2*2*2 = 64 possible classes. Since it is \n",
        "    # Bidirectional, there should be 128 possible classes\n",
        "    #x = TimeDistributed(Dense(128, activation=\"sigmoid\"))(x)\n",
        "    #x = Flatten()(x)\n",
        "    #x = BatchNormalization()(x)\n",
        "    #x = Dropout(0.4)(x)\n",
        "    outp = Dense(nlabs, activation=\"sigmoid\")(conc)\n",
        "    \n",
        "    model = Model(inputs=inp, outputs=outp)\n",
        "    model.compile(loss='binary_crossentropy',\n",
        "                  optimizer='adam',\n",
        "                  metrics=['accuracy'])\n",
        "\n",
        "    return model\n",
        "\n",
        "model = get_model()\n",
        "model.summary()\n"
      ],
      "execution_count": 23,
      "outputs": [
        {
          "output_type": "stream",
          "text": [
            "WARNING:tensorflow:From /usr/local/lib/python3.6/dist-packages/tensorflow/python/util/deprecation.py:497: calling conv1d (from tensorflow.python.ops.nn_ops) with data_format=NHWC is deprecated and will be removed in a future version.\n",
            "Instructions for updating:\n",
            "`NHWC` for data_format is deprecated, use `NWC` instead\n",
            "__________________________________________________________________________________________________\n",
            "Layer (type)                    Output Shape         Param #     Connected to                     \n",
            "==================================================================================================\n",
            "input_1 (InputLayer)            (None, 200)          0                                            \n",
            "__________________________________________________________________________________________________\n",
            "embedding_1 (Embedding)         (None, 200, 300)     45000000    input_1[0][0]                    \n",
            "__________________________________________________________________________________________________\n",
            "spatial_dropout1d_1 (SpatialDro (None, 200, 300)     0           embedding_1[0][0]                \n",
            "__________________________________________________________________________________________________\n",
            "bidirectional_1 (Bidirectional) (None, 200, 128)     187392      spatial_dropout1d_1[0][0]        \n",
            "__________________________________________________________________________________________________\n",
            "bidirectional_2 (Bidirectional) (None, 200, 256)     440320      spatial_dropout1d_1[0][0]        \n",
            "__________________________________________________________________________________________________\n",
            "conv1d_1 (Conv1D)               (None, 198, 64)      24640       bidirectional_1[0][0]            \n",
            "__________________________________________________________________________________________________\n",
            "conv1d_2 (Conv1D)               (None, 199, 128)     65664       bidirectional_2[0][0]            \n",
            "__________________________________________________________________________________________________\n",
            "global_average_pooling1d_1 (Glo (None, 64)           0           conv1d_1[0][0]                   \n",
            "__________________________________________________________________________________________________\n",
            "global_average_pooling1d_2 (Glo (None, 128)          0           conv1d_2[0][0]                   \n",
            "__________________________________________________________________________________________________\n",
            "global_max_pooling1d_1 (GlobalM (None, 64)           0           conv1d_1[0][0]                   \n",
            "__________________________________________________________________________________________________\n",
            "global_max_pooling1d_2 (GlobalM (None, 128)          0           conv1d_2[0][0]                   \n",
            "__________________________________________________________________________________________________\n",
            "concatenate_1 (Concatenate)     (None, 384)          0           global_average_pooling1d_1[0][0] \n",
            "                                                                 global_average_pooling1d_2[0][0] \n",
            "                                                                 global_max_pooling1d_1[0][0]     \n",
            "                                                                 global_max_pooling1d_2[0][0]     \n",
            "__________________________________________________________________________________________________\n",
            "dense_1 (Dense)                 (None, 6)            2310        concatenate_1[0][0]              \n",
            "==================================================================================================\n",
            "Total params: 45,720,326\n",
            "Trainable params: 720,326\n",
            "Non-trainable params: 45,000,000\n",
            "__________________________________________________________________________________________________\n"
          ],
          "name": "stdout"
        }
      ]
    },
    {
      "metadata": {
        "id": "aqeTRLDqgUa3",
        "colab_type": "code",
        "colab": {
          "autoexec": {
            "startup": false,
            "wait_interval": 0
          },
          "output_extras": [
            {
              "item_id": 1
            }
          ],
          "base_uri": "https://localhost:8080/",
          "height": 34
        },
        "outputId": "82a00d9c-748f-4aed-9009-2eebf7f631b1",
        "executionInfo": {
          "status": "ok",
          "timestamp": 1521405938099,
          "user_tz": 240,
          "elapsed": 427,
          "user": {
            "displayName": "Janamejaya Chowdhary",
            "photoUrl": "https://lh3.googleusercontent.com/a/default-user=s128",
            "userId": "109543167815685235104"
          }
        }
      },
      "cell_type": "code",
      "source": [
        "file_path = \"drive/jigsaw/best_model.hdf5\"\n",
        "RocAuc = RocAucEvaluation(validation_data=(X_val, y_val), interval=1)\n",
        "save_best = ModelCheckpoint(file_path, monitor='val_loss', verbose=1, save_best_only=True, mode='auto')\n",
        "early_stopping = EarlyStopping(monitor='val_loss', patience=4, mode='auto',min_delta=0.00001)\n",
        "callbacks_list = [save_best, early_stopping, RocAuc]\n",
        "print('callbacks defined')"
      ],
      "execution_count": 24,
      "outputs": [
        {
          "output_type": "stream",
          "text": [
            "callbacks defined\n"
          ],
          "name": "stdout"
        }
      ]
    },
    {
      "metadata": {
        "id": "dXskWtc9HYzV",
        "colab_type": "code",
        "colab": {
          "autoexec": {
            "startup": false,
            "wait_interval": 0
          },
          "output_extras": [
            {
              "item_id": 380
            },
            {
              "item_id": 5082
            },
            {
              "item_id": 5210
            },
            {
              "item_id": 10128
            },
            {
              "item_id": 10254
            },
            {
              "item_id": 15129
            },
            {
              "item_id": 15254
            },
            {
              "item_id": 20098
            },
            {
              "item_id": 20222
            },
            {
              "item_id": 25000
            },
            {
              "item_id": 25179
            },
            {
              "item_id": 29895
            },
            {
              "item_id": 30074
            },
            {
              "item_id": 34773
            },
            {
              "item_id": 34951
            },
            {
              "item_id": 39612
            },
            {
              "item_id": 39614
            }
          ],
          "base_uri": "https://localhost:8080/",
          "height": 887
        },
        "outputId": "03e1b8e8-65a0-4a2e-f056-4dc3f6dd6a5c",
        "executionInfo": {
          "status": "ok",
          "timestamp": 1521417107264,
          "user_tz": 240,
          "elapsed": 11169127,
          "user": {
            "displayName": "Janamejaya Chowdhary",
            "photoUrl": "https://lh3.googleusercontent.com/a/default-user=s128",
            "userId": "109543167815685235104"
          }
        }
      },
      "cell_type": "code",
      "source": [
        "batch_size = 32\n",
        "epochs = 40\n",
        "hist = model.fit(X_tra, y_tra, batch_size=batch_size, epochs=epochs, validation_data=(X_val, y_val),\n",
        "                 callbacks=[RocAuc, save_best, early_stopping], verbose=1)\n",
        "print('model fitting complete')"
      ],
      "execution_count": 25,
      "outputs": [
        {
          "output_type": "stream",
          "text": [
            "Train on 287228 samples, validate on 31914 samples\n",
            "Epoch 1/40\n",
            " 21312/287228 [=>............................] - ETA: 20:37 - loss: 0.0749 - acc: 0.9747"
          ],
          "name": "stdout"
        },
        {
          "output_type": "stream",
          "text": [
            "287200/287228 [============================>.] - ETA: 0s - loss: 0.0493 - acc: 0.9817"
          ],
          "name": "stdout"
        },
        {
          "output_type": "stream",
          "text": [
            "\b\b\b\b\b\b\b\b\b\b\b\b\b\b\b\b\b\b\b\b\b\b\b\b\b\b\b\b\b\b\b\b\b\b\b\b\b\b\b\b\b\b\b\b\b\b\b\b\b\b\b\b\b\b\b\b\b\b\b\b\b\b\b\b\b\b\b\b\b\b\b\b\b\b\b\b\b\b\b\b\b\b\b\b\b\r287228/287228 [==============================] - 1342s 5ms/step - loss: 0.0493 - acc: 0.9817 - val_loss: 0.0427 - val_acc: 0.9832\n",
            "\n",
            " ROC-AUC - epoch: 1 - score: 0.989231\n",
            "\n",
            "Epoch 00001: val_loss improved from inf to 0.04268, saving model to drive/jigsaw/best_model.hdf5\n",
            "Epoch 2/40\n",
            "  7008/287228 [..............................] - ETA: 21:15 - loss: 0.0440 - acc: 0.9829"
          ],
          "name": "stdout"
        },
        {
          "output_type": "stream",
          "text": [
            "287200/287228 [============================>.] - ETA: 0s - loss: 0.0420 - acc: 0.9838"
          ],
          "name": "stdout"
        },
        {
          "output_type": "stream",
          "text": [
            "\b\b\b\b\b\b\b\b\b\b\b\b\b\b\b\b\b\b\b\b\b\b\b\b\b\b\b\b\b\b\b\b\b\b\b\b\b\b\b\b\b\b\b\b\b\b\b\b\b\b\b\b\b\b\b\b\b\b\b\b\b\b\b\b\b\b\b\b\b\b\b\b\b\b\b\b\b\b\b\b\b\b\b\b\b\r287228/287228 [==============================] - 1339s 5ms/step - loss: 0.0420 - acc: 0.9838 - val_loss: 0.0383 - val_acc: 0.9851\n",
            "\n",
            " ROC-AUC - epoch: 2 - score: 0.989910\n",
            "\n",
            "Epoch 00002: val_loss improved from 0.04268 to 0.03835, saving model to drive/jigsaw/best_model.hdf5\n",
            "Epoch 3/40\n",
            "  6944/287228 [..............................] - ETA: 21:18 - loss: 0.0426 - acc: 0.9831"
          ],
          "name": "stdout"
        },
        {
          "output_type": "stream",
          "text": [
            "287200/287228 [============================>.] - ETA: 0s - loss: 0.0397 - acc: 0.9845"
          ],
          "name": "stdout"
        },
        {
          "output_type": "stream",
          "text": [
            "\b\b\b\b\b\b\b\b\b\b\b\b\b\b\b\b\b\b\b\b\b\b\b\b\b\b\b\b\b\b\b\b\b\b\b\b\b\b\b\b\b\b\b\b\b\b\b\b\b\b\b\b\b\b\b\b\b\b\b\b\b\b\b\b\b\b\b\b\b\b\b\b\b\b\b\b\b\b\b\b\b\b\b\b\b\r287228/287228 [==============================] - 1336s 5ms/step - loss: 0.0397 - acc: 0.9845 - val_loss: 0.0377 - val_acc: 0.9854\n",
            "\n",
            " ROC-AUC - epoch: 3 - score: 0.990269\n",
            "\n",
            "Epoch 00003: val_loss improved from 0.03835 to 0.03770, saving model to drive/jigsaw/best_model.hdf5\n",
            "Epoch 4/40\n",
            "  6944/287228 [..............................] - ETA: 21:16 - loss: 0.0382 - acc: 0.9851"
          ],
          "name": "stdout"
        },
        {
          "output_type": "stream",
          "text": [
            "287200/287228 [============================>.] - ETA: 0s - loss: 0.0379 - acc: 0.9851"
          ],
          "name": "stdout"
        },
        {
          "output_type": "stream",
          "text": [
            "\b\b\b\b\b\b\b\b\b\b\b\b\b\b\b\b\b\b\b\b\b\b\b\b\b\b\b\b\b\b\b\b\b\b\b\b\b\b\b\b\b\b\b\b\b\b\b\b\b\b\b\b\b\b\b\b\b\b\b\b\b\b\b\b\b\b\b\b\b\b\b\b\b\b\b\b\b\b\b\b\b\b\b\b\b\r287228/287228 [==============================] - 1338s 5ms/step - loss: 0.0379 - acc: 0.9851 - val_loss: 0.0371 - val_acc: 0.9853\n",
            "\n",
            " ROC-AUC - epoch: 4 - score: 0.990708\n",
            "\n",
            "Epoch 00004: val_loss improved from 0.03770 to 0.03713, saving model to drive/jigsaw/best_model.hdf5\n",
            "Epoch 5/40\n",
            "  6944/287228 [..............................] - ETA: 21:14 - loss: 0.0397 - acc: 0.9846"
          ],
          "name": "stdout"
        },
        {
          "output_type": "stream",
          "text": [
            "287200/287228 [============================>.] - ETA: 0s - loss: 0.0365 - acc: 0.9856"
          ],
          "name": "stdout"
        },
        {
          "output_type": "stream",
          "text": [
            "287228/287228 [==============================] - 1334s 5ms/step - loss: 0.0365 - acc: 0.9856 - val_loss: 0.0382 - val_acc: 0.9850\n",
            "\n",
            " ROC-AUC - epoch: 5 - score: 0.991024\n",
            "\n",
            "Epoch 00005: val_loss did not improve\n",
            "Epoch 6/40\n",
            " 10400/287228 [>.............................] - ETA: 20:37 - loss: 0.0343 - acc: 0.9868"
          ],
          "name": "stdout"
        },
        {
          "output_type": "stream",
          "text": [
            "287200/287228 [============================>.] - ETA: 0s - loss: 0.0352 - acc: 0.9861"
          ],
          "name": "stdout"
        },
        {
          "output_type": "stream",
          "text": [
            "287228/287228 [==============================] - 1334s 5ms/step - loss: 0.0352 - acc: 0.9861 - val_loss: 0.0381 - val_acc: 0.9848\n",
            "\n",
            " ROC-AUC - epoch: 6 - score: 0.990902\n",
            "\n",
            "Epoch 00006: val_loss did not improve\n",
            "Epoch 7/40\n",
            " 10400/287228 [>.............................] - ETA: 20:41 - loss: 0.0321 - acc: 0.9874"
          ],
          "name": "stdout"
        },
        {
          "output_type": "stream",
          "text": [
            "287200/287228 [============================>.] - ETA: 0s - loss: 0.0340 - acc: 0.9865"
          ],
          "name": "stdout"
        },
        {
          "output_type": "stream",
          "text": [
            "287228/287228 [==============================] - 1339s 5ms/step - loss: 0.0340 - acc: 0.9865 - val_loss: 0.0371 - val_acc: 0.9855\n",
            "\n",
            " ROC-AUC - epoch: 7 - score: 0.991210\n",
            "\n",
            "Epoch 00007: val_loss did not improve\n",
            "Epoch 8/40\n",
            " 10400/287228 [>.............................] - ETA: 20:44 - loss: 0.0314 - acc: 0.9873"
          ],
          "name": "stdout"
        },
        {
          "output_type": "stream",
          "text": [
            "287200/287228 [============================>.] - ETA: 0s - loss: 0.0330 - acc: 0.9870"
          ],
          "name": "stdout"
        },
        {
          "output_type": "stream",
          "text": [
            "\b\b\b\b\b\b\b\b\b\b\b\b\b\b\b\b\b\b\b\b\b\b\b\b\b\b\b\b\b\b\b\b\b\b\b\b\b\b\b\b\b\b\b\b\b\b\b\b\b\b\b\b\b\b\b\b\b\b\b\b\b\b\b\b\b\b\b\b\b\b\b\b\b\b\b\b\b\b\b\b\b\b\b\b\b\r287228/287228 [==============================] - 1338s 5ms/step - loss: 0.0330 - acc: 0.9870 - val_loss: 0.0398 - val_acc: 0.9842\n",
            "\n",
            " ROC-AUC - epoch: 8 - score: 0.990871\n",
            "\n",
            "Epoch 00008: val_loss did not improve\n",
            "model fitting complete\n"
          ],
          "name": "stdout"
        }
      ]
    },
    {
      "metadata": {
        "id": "H2J80p8wZs6E",
        "colab_type": "code",
        "colab": {
          "autoexec": {
            "startup": false,
            "wait_interval": 0
          }
        }
      },
      "cell_type": "code",
      "source": [
        "# Save the current model\n",
        "model.save(\"drive/jigsaw/current_final_model.hdf5\")"
      ],
      "execution_count": 0,
      "outputs": []
    },
    {
      "metadata": {
        "id": "JxpWX20nZwuU",
        "colab_type": "code",
        "colab": {
          "autoexec": {
            "startup": false,
            "wait_interval": 0
          }
        }
      },
      "cell_type": "code",
      "source": [
        "# Read in the best weights\n",
        "model.load_weights(file_path)\n",
        "\n",
        "# Make predictions with best weights\n",
        "y_pred = model.predict(x_test, batch_size=1024)"
      ],
      "execution_count": 0,
      "outputs": []
    },
    {
      "metadata": {
        "id": "-mQP_iOwgUoK",
        "colab_type": "code",
        "colab": {
          "autoexec": {
            "startup": false,
            "wait_interval": 0
          },
          "output_extras": [
            {
              "item_id": 1
            },
            {
              "item_id": 2
            }
          ],
          "base_uri": "https://localhost:8080/",
          "height": 221
        },
        "outputId": "5fa769dd-48a0-4c69-fb5e-a43ee19f85b8",
        "executionInfo": {
          "status": "ok",
          "timestamp": 1521417213224,
          "user_tz": 240,
          "elapsed": 24241,
          "user": {
            "displayName": "Janamejaya Chowdhary",
            "photoUrl": "https://lh3.googleusercontent.com/a/default-user=s128",
            "userId": "109543167815685235104"
          }
        }
      },
      "cell_type": "code",
      "source": [
        "# Save predictions\n",
        "submission = pd.read_csv('drive/jigsaw/sample_submission.csv')\n",
        "submission[[\"toxic\", \"severe_toxic\", \"obscene\", \"threat\", \"insult\", \"identity_hate\"]] = y_pred\n",
        "submission.to_csv('drive/jigsaw/submission.csv', index=False)\n",
        "print('fit and predictions complete')\n",
        "submission.head()"
      ],
      "execution_count": 28,
      "outputs": [
        {
          "output_type": "stream",
          "text": [
            "fit and predictions complete\n"
          ],
          "name": "stdout"
        },
        {
          "output_type": "execute_result",
          "data": {
            "text/html": [
              "<div>\n",
              "<style scoped>\n",
              "    .dataframe tbody tr th:only-of-type {\n",
              "        vertical-align: middle;\n",
              "    }\n",
              "\n",
              "    .dataframe tbody tr th {\n",
              "        vertical-align: top;\n",
              "    }\n",
              "\n",
              "    .dataframe thead th {\n",
              "        text-align: right;\n",
              "    }\n",
              "</style>\n",
              "<table border=\"1\" class=\"dataframe\">\n",
              "  <thead>\n",
              "    <tr style=\"text-align: right;\">\n",
              "      <th></th>\n",
              "      <th>id</th>\n",
              "      <th>toxic</th>\n",
              "      <th>severe_toxic</th>\n",
              "      <th>obscene</th>\n",
              "      <th>threat</th>\n",
              "      <th>insult</th>\n",
              "      <th>identity_hate</th>\n",
              "    </tr>\n",
              "  </thead>\n",
              "  <tbody>\n",
              "    <tr>\n",
              "      <th>0</th>\n",
              "      <td>00001cee341fdb12</td>\n",
              "      <td>0.991522</td>\n",
              "      <td>1.125925e-01</td>\n",
              "      <td>0.984572</td>\n",
              "      <td>2.403015e-02</td>\n",
              "      <td>0.821291</td>\n",
              "      <td>0.136614</td>\n",
              "    </tr>\n",
              "    <tr>\n",
              "      <th>1</th>\n",
              "      <td>0000247867823ef7</td>\n",
              "      <td>0.000365</td>\n",
              "      <td>5.863479e-07</td>\n",
              "      <td>0.000180</td>\n",
              "      <td>7.512402e-07</td>\n",
              "      <td>0.000100</td>\n",
              "      <td>0.000022</td>\n",
              "    </tr>\n",
              "    <tr>\n",
              "      <th>2</th>\n",
              "      <td>00013b17ad220c46</td>\n",
              "      <td>0.000701</td>\n",
              "      <td>9.839427e-06</td>\n",
              "      <td>0.000205</td>\n",
              "      <td>4.301212e-06</td>\n",
              "      <td>0.000097</td>\n",
              "      <td>0.000032</td>\n",
              "    </tr>\n",
              "    <tr>\n",
              "      <th>3</th>\n",
              "      <td>00017563c3f7919a</td>\n",
              "      <td>0.000143</td>\n",
              "      <td>2.287215e-08</td>\n",
              "      <td>0.000293</td>\n",
              "      <td>5.270820e-06</td>\n",
              "      <td>0.000314</td>\n",
              "      <td>0.000003</td>\n",
              "    </tr>\n",
              "    <tr>\n",
              "      <th>4</th>\n",
              "      <td>00017695ad8997eb</td>\n",
              "      <td>0.002581</td>\n",
              "      <td>5.791036e-06</td>\n",
              "      <td>0.000985</td>\n",
              "      <td>2.266286e-05</td>\n",
              "      <td>0.000454</td>\n",
              "      <td>0.000049</td>\n",
              "    </tr>\n",
              "  </tbody>\n",
              "</table>\n",
              "</div>"
            ],
            "text/plain": [
              "                 id     toxic  severe_toxic   obscene        threat    insult  \\\n",
              "0  00001cee341fdb12  0.991522  1.125925e-01  0.984572  2.403015e-02  0.821291   \n",
              "1  0000247867823ef7  0.000365  5.863479e-07  0.000180  7.512402e-07  0.000100   \n",
              "2  00013b17ad220c46  0.000701  9.839427e-06  0.000205  4.301212e-06  0.000097   \n",
              "3  00017563c3f7919a  0.000143  2.287215e-08  0.000293  5.270820e-06  0.000314   \n",
              "4  00017695ad8997eb  0.002581  5.791036e-06  0.000985  2.266286e-05  0.000454   \n",
              "\n",
              "   identity_hate  \n",
              "0       0.136614  \n",
              "1       0.000022  \n",
              "2       0.000032  \n",
              "3       0.000003  \n",
              "4       0.000049  "
            ]
          },
          "metadata": {
            "tags": []
          },
          "execution_count": 28
        }
      ]
    }
  ]
}